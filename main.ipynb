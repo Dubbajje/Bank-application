{
 "cells": [
  {
   "cell_type": "code",
   "execution_count": 2,
   "id": "e1374bad",
   "metadata": {},
   "outputs": [
    {
     "data": {
      "text/plain": [
       "'Nothing to load'"
      ]
     },
     "execution_count": 2,
     "metadata": {},
     "output_type": "execute_result"
    }
   ],
   "source": [
    "from Bank import Bank\n",
    "bank = Bank()\n",
    "bank.load_bank()"
   ]
  },
  {
   "cell_type": "code",
   "execution_count": 3,
   "id": "5a7b4afc",
   "metadata": {},
   "outputs": [
    {
     "data": {
      "text/plain": [
       "True"
      ]
     },
     "execution_count": 3,
     "metadata": {},
     "output_type": "execute_result"
    }
   ],
   "source": [
    "bank.add_customer(\"John\", 123)\n",
    "bank.add_customer(\"Edvard\", 321)\n",
    "bank.add_customer(\"Andreas\", 111)\n",
    "bank.add_customer(\"Debbie\", 222)"
   ]
  },
  {
   "cell_type": "code",
   "execution_count": 4,
   "id": "9acdd269",
   "metadata": {},
   "outputs": [
    {
     "name": "stdout",
     "output_type": "stream",
     "text": [
      "Please log in first\n"
     ]
    },
    {
     "data": {
      "text/plain": [
       "False"
      ]
     },
     "execution_count": 4,
     "metadata": {},
     "output_type": "execute_result"
    }
   ],
   "source": [
    "bank.add_account()"
   ]
  },
  {
   "cell_type": "code",
   "execution_count": 5,
   "id": "7e49b47a",
   "metadata": {},
   "outputs": [
    {
     "name": "stdout",
     "output_type": "stream",
     "text": [
      "John is online\n"
     ]
    },
    {
     "data": {
      "text/plain": [
       "True"
      ]
     },
     "execution_count": 5,
     "metadata": {},
     "output_type": "execute_result"
    }
   ],
   "source": [
    "bank.login(\"John\", 123)"
   ]
  },
  {
   "cell_type": "code",
   "execution_count": 6,
   "id": "b7b4ced1",
   "metadata": {},
   "outputs": [
    {
     "name": "stdout",
     "output_type": "stream",
     "text": [
      "Successfully added\n",
      "Successfully added\n",
      "Successfully added\n"
     ]
    }
   ],
   "source": [
    "bank.add_account()\n",
    "bank.add_account()\n",
    "bank.add_account()"
   ]
  },
  {
   "cell_type": "code",
   "execution_count": 7,
   "id": "dec2a910",
   "metadata": {
    "scrolled": true
   },
   "outputs": [
    {
     "name": "stdout",
     "output_type": "stream",
     "text": [
      "John's accounts:\n",
      "Account number: 2, Saldo: 0 \n",
      "Account number: 3, Saldo: 0 \n",
      "Account number: 4, Saldo: 0 \n"
     ]
    }
   ],
   "source": [
    "bank.get_accounts()"
   ]
  },
  {
   "cell_type": "code",
   "execution_count": 8,
   "id": "7745fa40",
   "metadata": {},
   "outputs": [
    {
     "data": {
      "text/plain": [
       "'Invalid account'"
      ]
     },
     "execution_count": 8,
     "metadata": {},
     "output_type": "execute_result"
    }
   ],
   "source": [
    "bank.deposit(9, 100)"
   ]
  },
  {
   "cell_type": "code",
   "execution_count": 9,
   "id": "d9360721",
   "metadata": {
    "scrolled": false
   },
   "outputs": [
    {
     "name": "stdout",
     "output_type": "stream",
     "text": [
      "Successfull\n"
     ]
    },
    {
     "data": {
      "text/plain": [
       "Account number: 2, Saldo: 100 "
      ]
     },
     "execution_count": 9,
     "metadata": {},
     "output_type": "execute_result"
    }
   ],
   "source": [
    "bank.deposit(2, 100)"
   ]
  },
  {
   "cell_type": "code",
   "execution_count": 10,
   "id": "a3b931d7",
   "metadata": {},
   "outputs": [
    {
     "name": "stdout",
     "output_type": "stream",
     "text": [
      "Amount less than 0\n"
     ]
    },
    {
     "data": {
      "text/plain": [
       "False"
      ]
     },
     "execution_count": 10,
     "metadata": {},
     "output_type": "execute_result"
    }
   ],
   "source": [
    "bank.deposit(2, -100)"
   ]
  },
  {
   "cell_type": "code",
   "execution_count": 11,
   "id": "31f543c6",
   "metadata": {},
   "outputs": [
    {
     "name": "stdout",
     "output_type": "stream",
     "text": [
      "Successfull\n"
     ]
    },
    {
     "data": {
      "text/plain": [
       "Account number: 2, Saldo: 50 "
      ]
     },
     "execution_count": 11,
     "metadata": {},
     "output_type": "execute_result"
    }
   ],
   "source": [
    "bank.withdraw(2, 50)"
   ]
  },
  {
   "cell_type": "code",
   "execution_count": 12,
   "id": "04e280a9",
   "metadata": {},
   "outputs": [
    {
     "name": "stdout",
     "output_type": "stream",
     "text": [
      "Error, not enough funds\n"
     ]
    },
    {
     "data": {
      "text/plain": [
       "False"
      ]
     },
     "execution_count": 12,
     "metadata": {},
     "output_type": "execute_result"
    }
   ],
   "source": [
    "bank.withdraw(2, 9000)"
   ]
  },
  {
   "cell_type": "code",
   "execution_count": 13,
   "id": "b1254b9d",
   "metadata": {},
   "outputs": [
    {
     "data": {
      "text/plain": [
       "Debbie, 222"
      ]
     },
     "execution_count": 13,
     "metadata": {},
     "output_type": "execute_result"
    }
   ],
   "source": [
    "bank.get_customer(\"Debbie\")"
   ]
  },
  {
   "cell_type": "code",
   "execution_count": 14,
   "id": "976011a5",
   "metadata": {},
   "outputs": [
    {
     "name": "stdout",
     "output_type": "stream",
     "text": [
      "The line is full\n"
     ]
    },
    {
     "data": {
      "text/plain": [
       "False"
      ]
     },
     "execution_count": 14,
     "metadata": {},
     "output_type": "execute_result"
    }
   ],
   "source": [
    "bank.login(\"Edvard\", 321)"
   ]
  },
  {
   "cell_type": "code",
   "execution_count": 15,
   "id": "9aab55dd",
   "metadata": {},
   "outputs": [
    {
     "name": "stdout",
     "output_type": "stream",
     "text": [
      "John logged out\n",
      "Edvard is online\n"
     ]
    },
    {
     "data": {
      "text/plain": [
       "True"
      ]
     },
     "execution_count": 15,
     "metadata": {},
     "output_type": "execute_result"
    }
   ],
   "source": [
    "bank.logout()\n",
    "bank.login(\"Edvard\", 321)"
   ]
  },
  {
   "cell_type": "code",
   "execution_count": 16,
   "id": "fd4a4cc9",
   "metadata": {},
   "outputs": [
    {
     "name": "stdout",
     "output_type": "stream",
     "text": [
      "Successfully added\n",
      "Successfully added\n"
     ]
    }
   ],
   "source": [
    "bank.add_account()\n",
    "bank.add_account()"
   ]
  },
  {
   "cell_type": "code",
   "execution_count": 17,
   "id": "013a4ed4",
   "metadata": {},
   "outputs": [
    {
     "name": "stdout",
     "output_type": "stream",
     "text": [
      "Edvard's accounts:\n",
      "Account number: 5, Saldo: 0 \n",
      "Account number: 6, Saldo: 0 \n"
     ]
    }
   ],
   "source": [
    "bank.get_accounts()"
   ]
  },
  {
   "cell_type": "code",
   "execution_count": 18,
   "id": "468f30fc",
   "metadata": {
    "scrolled": true
   },
   "outputs": [
    {
     "name": "stdout",
     "output_type": "stream",
     "text": [
      "Edvard's accounts:\n",
      "Account number: 6, Saldo: 0 \n"
     ]
    }
   ],
   "source": [
    "bank.remove_account(5)\n",
    "bank.get_accounts()"
   ]
  },
  {
   "cell_type": "code",
   "execution_count": 19,
   "id": "e39300ea",
   "metadata": {},
   "outputs": [
    {
     "name": "stdout",
     "output_type": "stream",
     "text": [
      "John, 123\n",
      "Edvard, 321\n",
      "Andreas, 111\n",
      "Debbie, 222\n"
     ]
    },
    {
     "data": {
      "text/plain": [
       "[John, 123, Edvard, 321, Andreas, 111, Debbie, 222]"
      ]
     },
     "execution_count": 19,
     "metadata": {},
     "output_type": "execute_result"
    }
   ],
   "source": [
    "bank.save_bank()\n",
    "bank.get_customers()\n"
   ]
  },
  {
   "cell_type": "code",
   "execution_count": 20,
   "id": "f9805ebd",
   "metadata": {},
   "outputs": [],
   "source": [
    "bank.load_bank()"
   ]
  },
  {
   "cell_type": "code",
   "execution_count": 21,
   "id": "4336a8c1",
   "metadata": {},
   "outputs": [
    {
     "name": "stdout",
     "output_type": "stream",
     "text": [
      "John, 123\n",
      "Edvard, 321\n",
      "Andreas, 111\n",
      "Debbie, 222\n"
     ]
    },
    {
     "data": {
      "text/plain": [
       "[John, 123, Edvard, 321, Andreas, 111, Debbie, 222]"
      ]
     },
     "execution_count": 21,
     "metadata": {},
     "output_type": "execute_result"
    }
   ],
   "source": [
    "bank.get_customers()"
   ]
  },
  {
   "cell_type": "code",
   "execution_count": 22,
   "id": "8e66a297",
   "metadata": {},
   "outputs": [
    {
     "data": {
      "text/plain": [
       "Andreas, 111"
      ]
     },
     "execution_count": 22,
     "metadata": {},
     "output_type": "execute_result"
    }
   ],
   "source": [
    "bank.remove_customer(\"Andreas\")"
   ]
  },
  {
   "cell_type": "code",
   "execution_count": 23,
   "id": "26762887",
   "metadata": {},
   "outputs": [],
   "source": [
    "bank.get_customer(\"Andreas\")"
   ]
  },
  {
   "cell_type": "code",
   "execution_count": 24,
   "id": "b77485f7",
   "metadata": {
    "scrolled": true
   },
   "outputs": [
    {
     "name": "stdout",
     "output_type": "stream",
     "text": [
      "Edvard logged out\n",
      "Incorrect name or password\n"
     ]
    },
    {
     "data": {
      "text/plain": [
       "True"
      ]
     },
     "execution_count": 24,
     "metadata": {},
     "output_type": "execute_result"
    }
   ],
   "source": [
    "bank.logout()\n",
    "bank.login(\"Debbie\", \"HACK-ATTACK\")\n"
   ]
  },
  {
   "cell_type": "code",
   "execution_count": 25,
   "id": "1946851d",
   "metadata": {},
   "outputs": [
    {
     "name": "stdout",
     "output_type": "stream",
     "text": [
      "Debbie is online\n"
     ]
    },
    {
     "data": {
      "text/plain": [
       "True"
      ]
     },
     "execution_count": 25,
     "metadata": {},
     "output_type": "execute_result"
    }
   ],
   "source": [
    "bank.login(\"Debbie\", 222)"
   ]
  },
  {
   "cell_type": "code",
   "execution_count": 26,
   "id": "ab4c91cc",
   "metadata": {
    "scrolled": true
   },
   "outputs": [
    {
     "name": "stdout",
     "output_type": "stream",
     "text": [
      "Password successfully changed\n"
     ]
    },
    {
     "data": {
      "text/plain": [
       "Debbie, 555"
      ]
     },
     "execution_count": 26,
     "metadata": {},
     "output_type": "execute_result"
    }
   ],
   "source": [
    "bank.change_customer_password(\"Debbie\", 555)"
   ]
  },
  {
   "cell_type": "code",
   "execution_count": 27,
   "id": "87fc7322",
   "metadata": {},
   "outputs": [
    {
     "name": "stdout",
     "output_type": "stream",
     "text": [
      "Debbie logged out\n",
      "Incorrect name or password\n"
     ]
    },
    {
     "data": {
      "text/plain": [
       "True"
      ]
     },
     "execution_count": 27,
     "metadata": {},
     "output_type": "execute_result"
    }
   ],
   "source": [
    "bank.logout()\n",
    "bank.login(\"Debbie\", 222)"
   ]
  },
  {
   "cell_type": "code",
   "execution_count": 28,
   "id": "2f84c678",
   "metadata": {},
   "outputs": [],
   "source": [
    "bank.save_bank()"
   ]
  },
  {
   "cell_type": "code",
   "execution_count": 29,
   "id": "9ecc4f9f",
   "metadata": {},
   "outputs": [
    {
     "name": "stdout",
     "output_type": "stream",
     "text": [
      "John, 123\n",
      "Edvard, 321\n",
      "Debbie, 555\n"
     ]
    },
    {
     "data": {
      "text/plain": [
       "[John, 123, Edvard, 321, Debbie, 555]"
      ]
     },
     "execution_count": 29,
     "metadata": {},
     "output_type": "execute_result"
    }
   ],
   "source": [
    "bank.load_bank() # Customer Andreas shouldn't be in the database\n",
    "bank.get_customers()"
   ]
  },
  {
   "cell_type": "code",
   "execution_count": 30,
   "id": "9b19554a",
   "metadata": {},
   "outputs": [],
   "source": [
    "bank.save_bank()"
   ]
  },
  {
   "cell_type": "code",
   "execution_count": null,
   "id": "232d985e",
   "metadata": {},
   "outputs": [],
   "source": []
  }
 ],
 "metadata": {
  "kernelspec": {
   "display_name": "Python 3 (ipykernel)",
   "language": "python",
   "name": "python3"
  },
  "language_info": {
   "codemirror_mode": {
    "name": "ipython",
    "version": 3
   },
   "file_extension": ".py",
   "mimetype": "text/x-python",
   "name": "python",
   "nbconvert_exporter": "python",
   "pygments_lexer": "ipython3",
   "version": "3.9.13"
  }
 },
 "nbformat": 4,
 "nbformat_minor": 5
}
